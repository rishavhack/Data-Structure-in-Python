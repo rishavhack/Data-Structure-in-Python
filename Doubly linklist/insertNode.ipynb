{
 "cells": [
  {
   "cell_type": "code",
   "execution_count": 1,
   "metadata": {},
   "outputs": [],
   "source": [
    "class Node:\n",
    "    def __init__(self,data):\n",
    "        self.data = data\n",
    "        self.next = None\n",
    "        self.prev = None\n",
    "    "
   ]
  },
  {
   "cell_type": "code",
   "execution_count": 9,
   "metadata": {},
   "outputs": [],
   "source": [
    "class DoublyLinkList:\n",
    "    def __init__(self):\n",
    "        self.head = None\n",
    "        self.tail = None\n",
    "        self.length = 0\n",
    "    \n",
    "    \n",
    "    def push(self,val):\n",
    "        newnode = Node(val)\n",
    "        if self.head == None:\n",
    "            self.head = newnode\n",
    "            self.tail = newnode\n",
    "        else:\n",
    "            self.tail.next = newnode\n",
    "            newnode.prev = self.tail\n",
    "            self.tail = newnode\n",
    "        self.length =self.length + 1\n",
    "        return self.length\n",
    "    \n",
    "    def pop(self):\n",
    "        if self.head == None:\n",
    "            return None\n",
    "        \n",
    "        if self.length == 1:\n",
    "            self.head = None\n",
    "            self.tail = None\n",
    "        else:\n",
    "            newTail = self.tail\n",
    "            self.tail = newTail.prev\n",
    "            self.tail.next = None\n",
    "            newTail.prev = None\n",
    "        self.length = self.length - 1\n",
    "        return self.length\n",
    "    \n",
    "    def addAtBegininng(self,val):\n",
    "        newNode = Node(val)\n",
    "        if self.head == None:\n",
    "            self.head = newNode\n",
    "            self.tail = newNode\n",
    "        else:\n",
    "            self.head.prev = newNode  \n",
    "            newNode.next = self.head\n",
    "            self.head = newNode\n",
    "        self.length = self.length + 1\n",
    "        return self.length\n",
    "    \n",
    "    def removeAtBegininng(self):\n",
    "        if self.head == None:\n",
    "            return None\n",
    "        if self.length == 1:\n",
    "            self.head = None;\n",
    "            self.tail = None;\n",
    "        else:\n",
    "            newHead = self.head\n",
    "            self.head = newHead.next\n",
    "            self.head.prev = None\n",
    "            newHead.next = None\n",
    "            \n",
    "        self.length = self.length -  1\n",
    "        return self.length\n",
    "    \n",
    "    \n",
    "    def getNode(self,index):\n",
    "        if index < 0 or index >= self.length:\n",
    "            return None\n",
    "        if index < self.length/2:\n",
    "            count = 0\n",
    "            current = self.head\n",
    "            while count != index:\n",
    "                current = current.next\n",
    "                count = count + 1\n",
    "        else:\n",
    "            count = self.length - 1\n",
    "            current = self.tail\n",
    "            while count != index:\n",
    "                current = current.prev\n",
    "                count = count- 1\n",
    "        return current\n",
    "    \n",
    "    def insertNode(self,index,val):\n",
    "        if index < 0 or index > self.length:\n",
    "            return None\n",
    "        if index == 0:\n",
    "            return self.addAtBegininng(val)\n",
    "        if index == self.length:\n",
    "            return self.push(val)\n",
    "        \n",
    "        newNode = Node(val);\n",
    "        beforeNode = self.getNode(index - 1);\n",
    "        afterNode = beforeNode.next;\n",
    "        \n",
    "        beforeNode.next = newNode\n",
    "        newNode.prev = beforeNode\n",
    "        newNode.next = afterNode\n",
    "        afterNode.prev = newNode\n",
    "        self.length = self.length + 1\n",
    "        return self.length"
   ]
  },
  {
   "cell_type": "code",
   "execution_count": 10,
   "metadata": {},
   "outputs": [],
   "source": [
    "a = DoublyLinkList()"
   ]
  },
  {
   "cell_type": "code",
   "execution_count": 14,
   "metadata": {},
   "outputs": [
    {
     "data": {
      "text/plain": [
       "4"
      ]
     },
     "execution_count": 14,
     "metadata": {},
     "output_type": "execute_result"
    }
   ],
   "source": [
    "a.push(34)"
   ]
  },
  {
   "cell_type": "code",
   "execution_count": 15,
   "metadata": {},
   "outputs": [
    {
     "data": {
      "text/plain": [
       "5"
      ]
     },
     "execution_count": 15,
     "metadata": {},
     "output_type": "execute_result"
    }
   ],
   "source": [
    "a.insertNode(2,88)"
   ]
  },
  {
   "cell_type": "code",
   "execution_count": null,
   "metadata": {},
   "outputs": [],
   "source": []
  }
 ],
 "metadata": {
  "kernelspec": {
   "display_name": "Python 3",
   "language": "python",
   "name": "python3"
  },
  "language_info": {
   "codemirror_mode": {
    "name": "ipython",
    "version": 3
   },
   "file_extension": ".py",
   "mimetype": "text/x-python",
   "name": "python",
   "nbconvert_exporter": "python",
   "pygments_lexer": "ipython3",
   "version": "3.7.2"
  }
 },
 "nbformat": 4,
 "nbformat_minor": 2
}
