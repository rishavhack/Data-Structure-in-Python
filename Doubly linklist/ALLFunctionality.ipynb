{
 "cells": [
  {
   "cell_type": "code",
   "execution_count": 5,
   "metadata": {},
   "outputs": [],
   "source": [
    "class Node:\n",
    "    def __init__(self,data):\n",
    "        self.data = data\n",
    "        self.next = None\n",
    "        self.prev = None\n",
    "    "
   ]
  },
  {
   "cell_type": "code",
   "execution_count": 43,
   "metadata": {},
   "outputs": [],
   "source": [
    "class DoublyLinkList:\n",
    "    def __init__(self):\n",
    "        self.head = None\n",
    "        self.tail = None\n",
    "        self.length = 0\n",
    "    \n",
    "    \n",
    "    def push(self,val):\n",
    "        newnode = Node(val)\n",
    "        if self.head == None:\n",
    "            self.head = newnode\n",
    "            self.tail = newnode\n",
    "        else:\n",
    "            self.tail.next = newnode\n",
    "            newnode.prev = self.tail\n",
    "            self.tail = newnode\n",
    "        self.length =self.length + 1\n",
    "        return self.length\n",
    "    \n",
    "    def pop(self):\n",
    "        if self.head == None:\n",
    "            return None\n",
    "        \n",
    "        if self.length == 1:\n",
    "            self.head = None\n",
    "            self.tail = None\n",
    "        else:\n",
    "            newTail = self.tail\n",
    "            self.tail = newTail.prev\n",
    "            self.tail.next = None\n",
    "            newTail.prev = None\n",
    "        self.length = self.length - 1\n",
    "        return self.length\n",
    "    \n",
    "    def addAtBegininng(self,val):\n",
    "        newNode = Node(val)\n",
    "        if self.head == None:\n",
    "            self.head = newNode\n",
    "            self.tail = newNode\n",
    "        else:\n",
    "            self.head.prev = newNode  \n",
    "            newNode.next = self.head\n",
    "            self.head = newNode\n",
    "        self.length = self.length + 1\n",
    "        return self.length\n",
    "    \n",
    "    def removeAtBegininng(self):\n",
    "        if self.head == None:\n",
    "            return None\n",
    "        if self.length == 1:\n",
    "            self.head = None;\n",
    "            self.tail = None;\n",
    "        else:\n",
    "            newHead = self.head\n",
    "            self.head = newHead.next\n",
    "            self.head.prev = None\n",
    "            newHead.next = None\n",
    "            \n",
    "        self.length = self.length -  1\n",
    "        return self.length\n",
    "    \n",
    "    def get(self,index):\n",
    "        if index < 0 or index >= self.length:\n",
    "            return None\n",
    "        if index <= self.length/2:\n",
    "            count = 0\n",
    "            current = self.head;\n",
    "            while(count != index):\n",
    "                current = current.next\n",
    "                count = count + 1\n",
    "        else:\n",
    "            count = self.length - 1;\n",
    "            current = self.tail;\n",
    "            while count != index:\n",
    "                current = current.prev\n",
    "                count = count - 1\n",
    "        return current"
   ]
  },
  {
   "cell_type": "code",
   "execution_count": 44,
   "metadata": {},
   "outputs": [],
   "source": [
    "a = DoublyLinkList()\n"
   ]
  },
  {
   "cell_type": "code",
   "execution_count": 50,
   "metadata": {},
   "outputs": [
    {
     "data": {
      "text/plain": [
       "5"
      ]
     },
     "execution_count": 50,
     "metadata": {},
     "output_type": "execute_result"
    }
   ],
   "source": [
    "a.push(121121)"
   ]
  },
  {
   "cell_type": "code",
   "execution_count": 54,
   "metadata": {},
   "outputs": [],
   "source": [
    "asd = a.get(4)"
   ]
  },
  {
   "cell_type": "code",
   "execution_count": 39,
   "metadata": {},
   "outputs": [
    {
     "data": {
      "text/plain": [
       "2"
      ]
     },
     "execution_count": 39,
     "metadata": {},
     "output_type": "execute_result"
    }
   ],
   "source": [
    "a.addAtBegininng(453)"
   ]
  },
  {
   "cell_type": "code",
   "execution_count": 42,
   "metadata": {},
   "outputs": [],
   "source": [
    "a.removeAtBegininng()"
   ]
  },
  {
   "cell_type": "code",
   "execution_count": 55,
   "metadata": {},
   "outputs": [
    {
     "data": {
      "text/plain": [
       "121121"
      ]
     },
     "execution_count": 55,
     "metadata": {},
     "output_type": "execute_result"
    }
   ],
   "source": [
    "asd.data"
   ]
  },
  {
   "cell_type": "code",
   "execution_count": null,
   "metadata": {},
   "outputs": [],
   "source": []
  }
 ],
 "metadata": {
  "kernelspec": {
   "display_name": "Python 3",
   "language": "python",
   "name": "python3"
  },
  "language_info": {
   "codemirror_mode": {
    "name": "ipython",
    "version": 3
   },
   "file_extension": ".py",
   "mimetype": "text/x-python",
   "name": "python",
   "nbconvert_exporter": "python",
   "pygments_lexer": "ipython3",
   "version": "3.7.2"
  }
 },
 "nbformat": 4,
 "nbformat_minor": 2
}
