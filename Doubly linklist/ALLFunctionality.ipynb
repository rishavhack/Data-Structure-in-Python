{
 "cells": [
  {
   "cell_type": "code",
   "execution_count": 8,
   "metadata": {},
   "outputs": [],
   "source": [
    "class Node:\n",
    "    def __init__(self,data):\n",
    "        self.data = data\n",
    "        self.next = None\n",
    "        self.prev = None\n",
    "    "
   ]
  },
  {
   "cell_type": "code",
   "execution_count": 22,
   "metadata": {},
   "outputs": [],
   "source": [
    "class DoublyLinkList:\n",
    "    \n",
    "    def __init___(self):\n",
    "        self.head = None\n",
    "        self.tail = None\n",
    "        self.length = 0\n",
    "    \n",
    "    \n",
    "    def push(self,val):\n",
    "        newnode = Node(val)\n",
    "        print(newnode.data)\n",
    "        if self.head == None:\n",
    "            self.head = newnode\n",
    "            self.tail = newnode\n",
    "        else:\n",
    "            self.tail.next = newnode\n",
    "            newnode.prev = self.tail\n",
    "            self.tail = newnode\n",
    "        self.length =self.length + 1\n",
    "        return self.length\n",
    "    \n",
    "    def pop(self):\n",
    "        if self.head == None:\n",
    "            return None\n",
    "        \n",
    "        if self.length == 1:\n",
    "            self.head == None\n",
    "            self.tail == None\n",
    "        else:\n",
    "            newTail = self.tail\n",
    "            self.tail = newTail.prev\n",
    "            self.tail.next = None\n",
    "            newTail.prev = None\n",
    "        self.length = self.length - 1\n",
    "        return self.length\n",
    "    \n",
    "    def addAtBegininng(self,val):\n",
    "        newNode = Node(val)\n",
    "        if self.head == None:\n",
    "            self.head = newNode\n",
    "            self.tail = newNode\n",
    "        else:\n",
    "            self.head.prev = newNode  \n",
    "            newNode.next = self.head\n",
    "            self.head = newNode\n",
    "        self.length = self.length + 1\n",
    "        return self.length\n",
    "    \n",
    "    def removeAtBegininng(self):\n",
    "        if self.head == None:\n",
    "            return None\n",
    "        if self.length == 1:\n",
    "            self.head = None;\n",
    "            self.tail = None;\n",
    "        else:\n",
    "            newHead = self.head\n",
    "            self.head = newHead.next\n",
    "            self.head.prev = None\n",
    "            newHead.next = None\n",
    "            \n",
    "        self.length = self.length -  1\n",
    "        return self.length\n",
    "            "
   ]
  },
  {
   "cell_type": "code",
   "execution_count": 23,
   "metadata": {},
   "outputs": [],
   "source": [
    "a = DoublyLinkList()\n"
   ]
  },
  {
   "cell_type": "code",
   "execution_count": 24,
   "metadata": {},
   "outputs": [
    {
     "name": "stdout",
     "output_type": "stream",
     "text": [
      "23\n"
     ]
    },
    {
     "data": {
      "text/plain": [
       "1"
      ]
     },
     "execution_count": 24,
     "metadata": {},
     "output_type": "execute_result"
    }
   ],
   "source": [
    "a.push(23)"
   ]
  },
  {
   "cell_type": "code",
   "execution_count": null,
   "metadata": {},
   "outputs": [],
   "source": []
  }
 ],
 "metadata": {
  "kernelspec": {
   "display_name": "Python 3",
   "language": "python",
   "name": "python3"
  },
  "language_info": {
   "codemirror_mode": {
    "name": "ipython",
    "version": 3
   },
   "file_extension": ".py",
   "mimetype": "text/x-python",
   "name": "python",
   "nbconvert_exporter": "python",
   "pygments_lexer": "ipython3",
   "version": "3.7.2"
  }
 },
 "nbformat": 4,
 "nbformat_minor": 2
}
