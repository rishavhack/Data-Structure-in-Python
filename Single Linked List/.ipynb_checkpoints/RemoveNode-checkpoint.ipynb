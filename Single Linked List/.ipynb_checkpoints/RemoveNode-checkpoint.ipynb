{
 "cells": [
  {
   "cell_type": "code",
   "execution_count": 1,
   "metadata": {},
   "outputs": [],
   "source": [
    "class Node:\n",
    "    def __init__(self,data):\n",
    "        self.data = data\n",
    "        self.next = None"
   ]
  },
  {
   "cell_type": "code",
   "execution_count": 87,
   "metadata": {},
   "outputs": [],
   "source": [
    "class SinglyLinkList:\n",
    "    def __init__(self):\n",
    "        self.head = None\n",
    "        self.tail = None\n",
    "        self.length = 0\n",
    "    \n",
    "    def append(self,val):\n",
    "        newNode = Node(val)\n",
    "        if self.head == None:\n",
    "            self.head = newNode\n",
    "            self.tail = newNode\n",
    "        else:\n",
    "            self.tail.next = newNode\n",
    "            self.tail = newNode\n",
    "        self.length =  self.length + 1\n",
    "        return self.length\n",
    "    \n",
    "    def pop(self):\n",
    "        if self.head == None:\n",
    "            return None\n",
    "        current = self.head\n",
    "        newTail = current\n",
    "        while current.next:\n",
    "            newTail = current\n",
    "            current = current.next\n",
    "        self.tail = newTail \n",
    "        self.tail.next = None\n",
    "        self.length = self.length - 1\n",
    "        if self.length == 0:\n",
    "            self.head = None\n",
    "            self.tail = None\n",
    "        return self.length\n",
    "    \n",
    "    def addAtBeginning(self,data):\n",
    "        newNode = Node(data);\n",
    "        if self.head == None:\n",
    "            self.head = newNode\n",
    "            self.tail = newNode\n",
    "        else:\n",
    "            newNode.next = self.head\n",
    "            self.head = newNode\n",
    "        self.length = self.length + 1\n",
    "        return self.length\n",
    "    \n",
    "    def removeAtBeginning(self):\n",
    "        if self.head == None:\n",
    "            return None\n",
    "        newHead = self.head\n",
    "        self.head = newHead.next\n",
    "        self.length = self.length - 1\n",
    "        if self.length == 0:\n",
    "            self.head = None\n",
    "            self.tail = None\n",
    "        return self.length\n",
    "    \n",
    "    def getNode(self,index):\n",
    "        if index < 0 or index >= self.length:\n",
    "            return None\n",
    "        count = 0\n",
    "        currentNode = self.head\n",
    "        while count != index:\n",
    "            print(currentNode.data)\n",
    "            currentNode = currentNode.next\n",
    "            count = count + 1\n",
    "        return currentNode\n",
    "    \n",
    "    def insertNode(self,index,val):\n",
    "        if index < 0 or index > self.length:\n",
    "            return None\n",
    "        if index == self.length:\n",
    "            return self.append(val)\n",
    "        if index == 0:\n",
    "            return self.addAtBeginning(val)\n",
    "        previous = self.getNode(index - 1)\n",
    "        newNode = Node(val)\n",
    "        temp = previous.next\n",
    "        previous.next = newNode\n",
    "        newNode.next = temp\n",
    "        self.length = self.length + 1\n",
    "        return self.length\n",
    "    \n",
    "    \n",
    "    def removeNode(self,index):\n",
    "        if index < 0 or index > self.length:\n",
    "            return None\n",
    "        if index == 0:\n",
    "            return self.removeAtBeginning()\n",
    "        if index == self.length:\n",
    "            return self.pop()\n",
    "        previous = self.getNode(index)\n",
    "        removeTemp = previous.next\n",
    "        previous.next = removeTemp.next\n",
    "        self.length = self.length - 1\n",
    "        return self.length\n",
    "    \n",
    "    "
   ]
  },
  {
   "cell_type": "code",
   "execution_count": 88,
   "metadata": {},
   "outputs": [],
   "source": [
    "a = SinglyLinkList()"
   ]
  },
  {
   "cell_type": "code",
   "execution_count": 93,
   "metadata": {},
   "outputs": [
    {
     "name": "stdout",
     "output_type": "stream",
     "text": [
      "5\n",
      "6\n",
      "7\n"
     ]
    }
   ],
   "source": [
    "print(a.append(23))\n",
    "print(a.append(88))\n",
    "print(a.append(233))"
   ]
  },
  {
   "cell_type": "code",
   "execution_count": 98,
   "metadata": {},
   "outputs": [
    {
     "name": "stdout",
     "output_type": "stream",
     "text": [
      "2\n",
      "1\n",
      "0\n"
     ]
    }
   ],
   "source": [
    "print(a.pop())\n",
    "print(a.pop())\n",
    "print(a.pop())"
   ]
  },
  {
   "cell_type": "code",
   "execution_count": 91,
   "metadata": {},
   "outputs": [
    {
     "name": "stdout",
     "output_type": "stream",
     "text": [
      "1\n"
     ]
    }
   ],
   "source": [
    "print(a.addAtBeginning(34))"
   ]
  },
  {
   "cell_type": "code",
   "execution_count": 22,
   "metadata": {},
   "outputs": [
    {
     "name": "stdout",
     "output_type": "stream",
     "text": [
      "None\n"
     ]
    }
   ],
   "source": [
    "print(a.removeAtBeginning())"
   ]
  },
  {
   "cell_type": "code",
   "execution_count": 51,
   "metadata": {},
   "outputs": [
    {
     "name": "stdout",
     "output_type": "stream",
     "text": [
      "<__main__.Node object at 0x108554438>\n",
      "23\n",
      "88\n",
      "233\n",
      "23\n",
      "<__main__.Node object at 0x108318cc0>\n"
     ]
    }
   ],
   "source": [
    "print(a.getNode(4))"
   ]
  },
  {
   "cell_type": "code",
   "execution_count": 84,
   "metadata": {},
   "outputs": [
    {
     "name": "stdout",
     "output_type": "stream",
     "text": [
      "23\n"
     ]
    },
    {
     "data": {
      "text/plain": [
       "6"
      ]
     },
     "execution_count": 84,
     "metadata": {},
     "output_type": "execute_result"
    }
   ],
   "source": [
    "a.insertNode(2,12)"
   ]
  },
  {
   "cell_type": "code",
   "execution_count": 94,
   "metadata": {},
   "outputs": [
    {
     "data": {
      "text/plain": [
       "6"
      ]
     },
     "execution_count": 94,
     "metadata": {},
     "output_type": "execute_result"
    }
   ],
   "source": [
    "a.removeNode(0)"
   ]
  },
  {
   "cell_type": "code",
   "execution_count": 95,
   "metadata": {},
   "outputs": [
    {
     "data": {
      "text/plain": [
       "5"
      ]
     },
     "execution_count": 95,
     "metadata": {},
     "output_type": "execute_result"
    }
   ],
   "source": [
    "a.removeNode(6)"
   ]
  },
  {
   "cell_type": "code",
   "execution_count": 96,
   "metadata": {},
   "outputs": [
    {
     "name": "stdout",
     "output_type": "stream",
     "text": [
      "23\n",
      "88\n"
     ]
    },
    {
     "data": {
      "text/plain": [
       "4"
      ]
     },
     "execution_count": 96,
     "metadata": {},
     "output_type": "execute_result"
    }
   ],
   "source": [
    "a.removeNode(2)"
   ]
  },
  {
   "cell_type": "code",
   "execution_count": 97,
   "metadata": {},
   "outputs": [
    {
     "name": "stdout",
     "output_type": "stream",
     "text": [
      "23\n",
      "88\n"
     ]
    },
    {
     "data": {
      "text/plain": [
       "3"
      ]
     },
     "execution_count": 97,
     "metadata": {},
     "output_type": "execute_result"
    }
   ],
   "source": [
    "a.removeNode(2)"
   ]
  },
  {
   "cell_type": "code",
   "execution_count": null,
   "metadata": {},
   "outputs": [],
   "source": []
  }
 ],
 "metadata": {
  "kernelspec": {
   "display_name": "Python 3",
   "language": "python",
   "name": "python3"
  },
  "language_info": {
   "codemirror_mode": {
    "name": "ipython",
    "version": 3
   },
   "file_extension": ".py",
   "mimetype": "text/x-python",
   "name": "python",
   "nbconvert_exporter": "python",
   "pygments_lexer": "ipython3",
   "version": "3.7.2"
  }
 },
 "nbformat": 4,
 "nbformat_minor": 2
}
