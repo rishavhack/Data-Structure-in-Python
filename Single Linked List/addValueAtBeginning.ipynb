{
 "cells": [
  {
   "cell_type": "code",
   "execution_count": 1,
   "metadata": {},
   "outputs": [],
   "source": [
    "class Node:\n",
    "    def __init__(self,data):\n",
    "        self.data =data;\n",
    "        self.next = None;\n",
    "        "
   ]
  },
  {
   "cell_type": "code",
   "execution_count": 10,
   "metadata": {},
   "outputs": [],
   "source": [
    "class SinglyLinkedList:\n",
    "    def __init__(self):\n",
    "        self.head = None;\n",
    "        self.tail = None;\n",
    "        self.length = 0\n",
    "    \n",
    "    def append(self,val):\n",
    "        newNode = Node(val)\n",
    "        if self.head == None:\n",
    "            self.head = newNode\n",
    "            self.tail = newNode\n",
    "        else:\n",
    "            self.tail.next = newNode\n",
    "            self.tail = newNode\n",
    "        self.length = self.length + 1\n",
    "        return self.length\n",
    "    \n",
    "    def pop(self):\n",
    "        if self.head == None:\n",
    "            return None\n",
    "        currentNode = self.head\n",
    "        newTail = currentNode\n",
    "        while currentNode.next:\n",
    "            newTail = currentNode\n",
    "            currentNode = currentNode.next\n",
    "        \n",
    "        self.tail = newTail\n",
    "        self.tail.next = None\n",
    "        self.length = self.length - 1\n",
    "        if self.length == 0:\n",
    "            self.head = None\n",
    "            self.tail = None\n",
    "        return self.length\n",
    "    \n",
    "    def addAtBeginning(self,val):\n",
    "        newNode = Node(val)\n",
    "        if self.head == None:\n",
    "            self.head = newNode\n",
    "            self.tail = newNode;\n",
    "        else:\n",
    "            newNode.next = self.head;\n",
    "            self.head = newNode\n",
    "        self.length = self.length + 1\n",
    "        return self.length"
   ]
  },
  {
   "cell_type": "code",
   "execution_count": 11,
   "metadata": {},
   "outputs": [],
   "source": [
    "a = SinglyLinkedList()"
   ]
  },
  {
   "cell_type": "code",
   "execution_count": 18,
   "metadata": {},
   "outputs": [
    {
     "name": "stdout",
     "output_type": "stream",
     "text": [
      "1\n",
      "2\n",
      "3\n"
     ]
    }
   ],
   "source": [
    "print(a.append(23))\n",
    "print(a.append(88))\n",
    "print(a.append(233))\n"
   ]
  },
  {
   "cell_type": "code",
   "execution_count": 17,
   "metadata": {},
   "outputs": [
    {
     "name": "stdout",
     "output_type": "stream",
     "text": [
      "None\n",
      "None\n",
      "None\n"
     ]
    }
   ],
   "source": [
    "print(a.pop())\n",
    "print(a.pop())\n",
    "print(a.pop())"
   ]
  },
  {
   "cell_type": "code",
   "execution_count": 20,
   "metadata": {},
   "outputs": [
    {
     "name": "stdout",
     "output_type": "stream",
     "text": [
      "5\n"
     ]
    }
   ],
   "source": [
    "print(a.addAtBeginning(34))"
   ]
  },
  {
   "cell_type": "code",
   "execution_count": 19,
   "metadata": {},
   "outputs": [
    {
     "name": "stdout",
     "output_type": "stream",
     "text": [
      "4\n"
     ]
    }
   ],
   "source": [
    "print(a.addAtBeginning(3432))"
   ]
  },
  {
   "cell_type": "code",
   "execution_count": null,
   "metadata": {},
   "outputs": [],
   "source": []
  }
 ],
 "metadata": {
  "kernelspec": {
   "display_name": "Python 3",
   "language": "python",
   "name": "python3"
  },
  "language_info": {
   "codemirror_mode": {
    "name": "ipython",
    "version": 3
   },
   "file_extension": ".py",
   "mimetype": "text/x-python",
   "name": "python",
   "nbconvert_exporter": "python",
   "pygments_lexer": "ipython3",
   "version": "3.7.2"
  }
 },
 "nbformat": 4,
 "nbformat_minor": 2
}
