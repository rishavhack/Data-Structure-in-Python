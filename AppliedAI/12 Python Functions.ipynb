{
 "cells": [
  {
   "cell_type": "markdown",
   "metadata": {},
   "source": [
    "## Python Functions\n",
    "\n",
    "Funciton is a group of related statements that perform a specific task.\n",
    "\n",
    "Functions helps break our program into smaller and modular chunks. \n",
    "\n",
    "It avoids repetition and make code resuable\n",
    "\n",
    "## Syntax\n",
    "\n",
    "def function_name(parameter):\n",
    "    \"\"\"\n",
    "    Doc sting\n",
    "    \"\"\"\n",
    "    Statement(a)"
   ]
  },
  {
   "cell_type": "code",
   "execution_count": 1,
   "metadata": {},
   "outputs": [],
   "source": [
    "def print_name(name):\n",
    "    \"\"\"\n",
    "    This function prints the name\n",
    "    \"\"\"\n",
    "    print(\"Hello\"+str(name))\n",
    "    "
   ]
  },
  {
   "cell_type": "code",
   "execution_count": 2,
   "metadata": {},
   "outputs": [
    {
     "name": "stdout",
     "output_type": "stream",
     "text": [
      "Rishav\n"
     ]
    }
   ],
   "source": [
    "#Once we have defined a function, we can call it from from anywhere\n",
    "\n",
    "print(\"Rishav\")"
   ]
  },
  {
   "cell_type": "markdown",
   "metadata": {},
   "source": [
    "## Doc string\n",
    "\n",
    "The first after the function header is called the docstring and is short for documentation string.\n",
    "\n",
    "Although optional, documentation is a good programming practice,always documentation code\n",
    "\n",
    "Doc string will be written in triple quotes so that docstring can extend up to multiple lines"
   ]
  },
  {
   "cell_type": "code",
   "execution_count": 3,
   "metadata": {},
   "outputs": [
    {
     "name": "stdout",
     "output_type": "stream",
     "text": [
      "\n",
      "    This function prints the name\n",
      "    \n"
     ]
    }
   ],
   "source": [
    "print(print_name.__doc__)"
   ]
  },
  {
   "cell_type": "markdown",
   "metadata": {},
   "source": [
    "## Scope and Life time of variable\n",
    "\n",
    "-> Scope of variable is the portion of a program where the variable is recognized.\n",
    "\n",
    "-> Variable defined inside a function is not visible from outside, Hence,they have a local scope\n",
    "\n",
    "-> Lifetime of a variable is the period throughout which the variable exits in the memory\n",
    "\n",
    "-> The lifetime of variable inside a function is as long as the function executes.\n",
    "\n",
    "-> Variables are destroyed once we return from the function"
   ]
  },
  {
   "cell_type": "code",
   "execution_count": 4,
   "metadata": {},
   "outputs": [
    {
     "name": "stdout",
     "output_type": "stream",
     "text": [
      "This is local variable\n",
      "This is global variable\n",
      "This is global variable\n"
     ]
    },
    {
     "ename": "NameError",
     "evalue": "name 'local_var' is not defined",
     "output_type": "error",
     "traceback": [
      "\u001b[0;31m---------------------------------------------------------------------------\u001b[0m",
      "\u001b[0;31mNameError\u001b[0m                                 Traceback (most recent call last)",
      "\u001b[0;32m<ipython-input-4-d23601d0d3fe>\u001b[0m in \u001b[0;36m<module>\u001b[0;34m\u001b[0m\n\u001b[1;32m     14\u001b[0m \u001b[0mprint\u001b[0m\u001b[0;34m(\u001b[0m\u001b[0mglobal_var\u001b[0m\u001b[0;34m)\u001b[0m\u001b[0;34m\u001b[0m\u001b[0;34m\u001b[0m\u001b[0m\n\u001b[1;32m     15\u001b[0m \u001b[0;34m\u001b[0m\u001b[0m\n\u001b[0;32m---> 16\u001b[0;31m \u001b[0mprint\u001b[0m\u001b[0;34m(\u001b[0m\u001b[0mlocal_var\u001b[0m\u001b[0;34m)\u001b[0m\u001b[0;34m\u001b[0m\u001b[0;34m\u001b[0m\u001b[0m\n\u001b[0m",
      "\u001b[0;31mNameError\u001b[0m: name 'local_var' is not defined"
     ]
    }
   ],
   "source": [
    "global_var = \"This is global variable\"\n",
    "\n",
    "def test_life_time():\n",
    "    \"\"\"\n",
    "    This function test tje life time of a variables\n",
    "    \"\"\"\n",
    "    local_var = \"This is local variable\"\n",
    "    \n",
    "    print(local_var)\n",
    "    print(global_var)\n",
    "    \n",
    "test_life_time()\n",
    "\n",
    "print(global_var)\n",
    "\n",
    "print(local_var)"
   ]
  },
  {
   "cell_type": "markdown",
   "metadata": {},
   "source": [
    "## HCF"
   ]
  },
  {
   "cell_type": "code",
   "execution_count": 5,
   "metadata": {},
   "outputs": [
    {
     "name": "stdout",
     "output_type": "stream",
     "text": [
      "HACF of 98 and 78 is : 2\n"
     ]
    }
   ],
   "source": [
    "def computeHCF(a,b):\n",
    "    \n",
    "    smaller = b if a > b else a\n",
    "    \n",
    "    hcf = 1\n",
    "    for i in range(1,smaller + 1):\n",
    "        if(a % i == 0) and (b % i == 0):\n",
    "            hcf = i\n",
    "    return hcf\n",
    "\n",
    "num1= 98\n",
    "num2 = 78\n",
    "\n",
    "print(\"HACF of {0} and {1} is : {2}\".format(num1,num2,computeHCF(num1,num2)))"
   ]
  },
  {
   "cell_type": "code",
   "execution_count": null,
   "metadata": {},
   "outputs": [],
   "source": []
  }
 ],
 "metadata": {
  "kernelspec": {
   "display_name": "Python 3",
   "language": "python",
   "name": "python3"
  },
  "language_info": {
   "codemirror_mode": {
    "name": "ipython",
    "version": 3
   },
   "file_extension": ".py",
   "mimetype": "text/x-python",
   "name": "python",
   "nbconvert_exporter": "python",
   "pygments_lexer": "ipython3",
   "version": "3.7.2"
  }
 },
 "nbformat": 4,
 "nbformat_minor": 2
}
